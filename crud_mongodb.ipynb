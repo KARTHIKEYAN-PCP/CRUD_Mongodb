{
 "cells": [
  {
   "cell_type": "code",
   "execution_count": 1,
   "id": "006d0371",
   "metadata": {},
   "outputs": [],
   "source": [
    "from pymongo import MongoClient, results"
   ]
  },
  {
   "cell_type": "code",
   "execution_count": 2,
   "id": "a295062b",
   "metadata": {},
   "outputs": [],
   "source": [
    "class karthi:\n",
    "    connection = MongoClient(\"mongodb://localhost:27017/\")       \n",
    "    \n",
    "    def mongo_connection(self):\n",
    "        if(self.connection):\n",
    "            return True\n",
    "        else:\n",
    "            return False\n",
    "    \n",
    "    def mongo_db_list(self):\n",
    "        if self.connection:\n",
    "            return self.connection.list_database_names()\n",
    "    \n",
    "    def db_exist(self,db_name):\n",
    "        if db_name in self.mogo_db_list():\n",
    "            return True\n",
    "        else:\n",
    "            return False\n",
    "    \n",
    "    def create_new_collection(self,db_name,new_collection):\n",
    "        if self.connection:\n",
    "            db_name = self.connection[db_name]\n",
    "            new_collection = db_name[new_collection]\n",
    "            return (new_collection)\n",
    "        else:\n",
    "            return (\"Error : Mongo Connection failed\")\n",
    "    \n",
    "    def timestamp(self):\n",
    "        import datetime as dt\n",
    "        return dt.datetime.now()\n",
    "    \n",
    "    def insert_data(self,db_name,collection_name,_id,name,email,mobl):\n",
    "        if self.connection:\n",
    "            data = {'id':_id,'Name':name,'Email':email,'Mobl':mobl,'timestamp':self.timestamp()}\n",
    "            self.connection[db_name][collection_name].insert_one(data)\n",
    "            return (\"Data Inserted\")\n",
    "        else:\n",
    "            return (\"Error\")\n",
    "    \n",
    "    def display_data(self,db_name,collection_name):\n",
    "        result = []\n",
    "        if self.connection:\n",
    "            for data in self.connection[db_name][collection_name].find():\n",
    "                result.append(data)\n",
    "            for dic in result:\n",
    "                for key,val in dic.items():\n",
    "                    print(val)\n",
    "        else:\n",
    "            return(\"Error\")\n",
    "    \n",
    "    def delete_data(self,db_name, collection_name,_id):\n",
    "        myquery = { \"_id\": _id }\n",
    "        self.connection[db_name][collection_name].delete_one(myquery)\n",
    "        return(\"delete success\") \n",
    "    \n",
    "    def update_data(self,db_name, collection_name,_id,query,crt_value,new_value):\n",
    "       myquery = { query: crt_value }\n",
    "       newvalues = { \"$set\": { query: new_value } }\n",
    "       self.connection[db_name][collection_name].update_one(myquery,newvalues)\n",
    "       return(\"update success\")\n",
    "    \n",
    "    def get_data(self, db_name, collection_name,_id,query):\n",
    "        result=[]\n",
    "        if self.connection:\n",
    "            for data in self.connection[db_name][collection_name].find():\n",
    "                result.append(data)\n",
    "            for dic in result:\n",
    "                if dic[\"_id\"]==_id:\n",
    "                    return dic[query]\n",
    "        else:\n",
    "            return(\"ERROR : DB connection error !\")"
   ]
  },
  {
   "cell_type": "code",
   "execution_count": 3,
   "id": "098e32d7",
   "metadata": {},
   "outputs": [
    {
     "name": "stdout",
     "output_type": "stream",
     "text": [
      "Enter the database namecruddb\n",
      "Enter the Collection Namecrud\n",
      "Collection(Database(MongoClient(host=['localhost:27017'], document_class=dict, tz_aware=False, connect=True), 'db_name'), 'collection_name')\n"
     ]
    }
   ],
   "source": [
    "k=karthi()\n",
    "db_name=input(\"Enter the database name\")\n",
    "collection_name=input(\"Enter the Collection Name\")\n",
    "a = k.create_new_collection('db_name','collection_name')\n",
    "print(a)"
   ]
  },
  {
   "cell_type": "code",
   "execution_count": 4,
   "id": "1e44e394",
   "metadata": {},
   "outputs": [
    {
     "name": "stdout",
     "output_type": "stream",
     "text": [
      "Press 1 to Insert data\n",
      "Press 2 to View all data\n",
      "Press 3 to update data by ID\n",
      "Press 4 to delete data by Id\n",
      "Press 0 to Exit\n",
      "3\n"
     ]
    }
   ],
   "source": [
    "print(\"Press 1 to Insert data\")\n",
    "print(\"Press 2 to View all data\")\n",
    "print(\"Press 3 to update data by ID\")\n",
    "print(\"Press 4 to delete data by Id\")\n",
    "print(\"Press 0 to Exit\")\n",
    "n = int(input())\n"
   ]
  },
  {
   "cell_type": "code",
   "execution_count": 6,
   "id": "ddd9d409",
   "metadata": {},
   "outputs": [
    {
     "name": "stdout",
     "output_type": "stream",
     "text": [
      "enter id1\n",
      "Enter the databasecruddb\n",
      "Enter the collectioncrud\n",
      "press 1 for name updation\n",
      "press 2 for email updation\n",
      "press 3 for mobile updation\n",
      "1\n",
      "Enter new value\n",
      "karthikeyan\n",
      "update success\n"
     ]
    }
   ],
   "source": [
    "if(n==1):\n",
    "    db_name=input(\"Enter the database name\")\n",
    "    collection_name=input(\"Enter the Collection Name\")\n",
    "    _id=input(\"Enter the ID\")\n",
    "    name=input(\"Enter the Name\")\n",
    "    email=input(\"Enter the Email\")\n",
    "    mobl=input(\"Enter the mobile number\")\n",
    "    print(k.insert_data(db_name,collection_name,_id,name,email,mobl))\n",
    "elif(n==2):\n",
    "    db_name=input(\"Enter the database name\")\n",
    "    collection_name=input(\"Enter the Collection Name\")\n",
    "    k.display_data(db_name,collection_name)\n",
    "elif n==3:\n",
    "    q=[\"name\",\"email\",\"mobile\"]\n",
    "    \n",
    "    _id=int(input(\"enter id\"))\n",
    "    db_name = input(\"Enter the database\")\n",
    "    collection_name = input(\"Enter the collection\")\n",
    "    print(\"press 1 for name updation\")\n",
    "    print(\"press 2 for email updation\")\n",
    "    print(\"press 3 for mobile updation\")\n",
    "    op=int(input())    \n",
    "    query=q[op-1]\n",
    "    print(\"Enter new value\")\n",
    "    new_value=input()\n",
    "    crt_value=k.get_data(db_name,collection_name,_id,query) \n",
    "    print(k.update_data(db_name,collection_name,_id,query,crt_value,new_value))\n",
    "elif n==4:\n",
    "    db_name = input(\"Enter the database\")\n",
    "    collection_name = input(\"Enter the collection\")\n",
    "    _id=int(input(\"enter the id\"))\n",
    "    print(k.delete_data(db_name,collecction_name,_id))\n",
    "\n",
    "elif(n==0):\n",
    "    print(\"GoodBye\")\n",
    "    break\n",
    "    "
   ]
  },
  {
   "cell_type": "code",
   "execution_count": null,
   "id": "4816ec79",
   "metadata": {},
   "outputs": [],
   "source": []
  },
  {
   "cell_type": "code",
   "execution_count": null,
   "id": "c25eca49",
   "metadata": {},
   "outputs": [],
   "source": []
  },
  {
   "cell_type": "code",
   "execution_count": null,
   "id": "01e70a90",
   "metadata": {},
   "outputs": [],
   "source": []
  }
 ],
 "metadata": {
  "kernelspec": {
   "display_name": "Python 3",
   "language": "python",
   "name": "python3"
  },
  "language_info": {
   "codemirror_mode": {
    "name": "ipython",
    "version": 3
   },
   "file_extension": ".py",
   "mimetype": "text/x-python",
   "name": "python",
   "nbconvert_exporter": "python",
   "pygments_lexer": "ipython3",
   "version": "3.8.8"
  }
 },
 "nbformat": 4,
 "nbformat_minor": 5
}
